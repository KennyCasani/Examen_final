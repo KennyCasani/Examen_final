{
 "cells": [
  {
   "cell_type": "code",
   "execution_count": null,
   "metadata": {},
   "outputs": [],
   "source": [
    "#primero llamo a todos los paquetes necesarios ara hacer el web scraping \n",
    "import re \n",
    "import requests \n",
    "import pandas as pd \n",
    "from bs4 import BeautifulSoup as b "
   ]
  },
  {
   "cell_type": "code",
   "execution_count": null,
   "metadata": {},
   "outputs": [],
   "source": [
    "#desde la pagina principal extraemos el link para ir hacia la pagina de licenciaturas\n",
    "#1er paso\n",
    "url=\"https://tesis.pucp.edu.pe/repositorio/\"   # guardo al dirección ulink rl en url \n",
    "html=requests.get(url)                              # pido acceso para poder leer el contenido de la página \n",
    "content=html.content\n",
    "soup=b(content,\"lxml\")      \n",
    "link = soup.find_all('a', text='3. Licenciatura')\n",
    "link = link[0]\n",
    "href = link['href']\n",
    "\n",
    "#desde la pagina de licenciaturas extraemos el link que nos llevara a la pagina de Facultad de Ciencias e Ingeniería\n",
    "#2do paso\n",
    "url=\"https://tesis.pucp.edu.pe/repositorio/handle/20.500.12404/3\"   # guardo al dirección ulink rl en url \n",
    "html=requests.get(url)                              # pido acceso para poder leer el contenido de la página \n",
    "content=html.content\n",
    "soup=b(content,\"lxml\")      \n",
    "link = soup.find_all('a', text='Facultad de Ciencias e Ingeniería')\n",
    "link = link[0]\n",
    "href = link['href']\n",
    "\n",
    "#obtenemos los link de las tesiis que tienen que ver con informatica\n",
    "#3er paso\n",
    "url=\"https://tesis.pucp.edu.pe:/repositorio/handle/20.500.12404/7\"   # guardo al dirección ulink rl en url \n",
    "html=requests.get(url)                              # pido acceso para poder leer el contenido de la página \n",
    "content=html.content\n",
    "soup=b(content,\"lxml\")      \n",
    "link = soup.find_all('a', text='Ingeniería Informática')\n",
    "link = link[0]\n",
    "href = link['href']"
   ]
  }
 ],
 "metadata": {
  "language_info": {
   "name": "python"
  },
  "orig_nbformat": 4
 },
 "nbformat": 4,
 "nbformat_minor": 2
}
