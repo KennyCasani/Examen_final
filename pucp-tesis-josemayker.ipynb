{
 "cells": [
  {
   "cell_type": "code",
   "execution_count": null,
   "metadata": {},
   "outputs": [],
   "source": [
    "#primero llamo a todos los paquetes necesarios ara hacer el web scraping \n",
    "import re \n",
    "import requests \n",
    "import pandas as pd \n",
    "from bs4 import BeautifulSoup as b "
   ]
  }
 ],
 "metadata": {
  "language_info": {
   "name": "python"
  },
  "orig_nbformat": 4
 },
 "nbformat": 4,
 "nbformat_minor": 2
}
